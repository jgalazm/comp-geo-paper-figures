{
 "cells": [
  {
   "cell_type": "code",
   "execution_count": 1,
   "metadata": {},
   "outputs": [],
   "source": [
    "import numpy as np\n",
    "import matplotlib.pyplot as plt\n",
    "%matplotlib inline"
   ]
  },
  {
   "cell_type": "code",
   "execution_count": 2,
   "metadata": {},
   "outputs": [],
   "source": [
    "lon = np.linspace(-15,15,501)\n",
    "lat = np.linspace(-15,15,501)\n",
    "lon,lat = np.meshgrid(lon,lat)\n",
    "\n",
    "h = np.where(lon<10,4000,4000)"
   ]
  },
  {
   "cell_type": "code",
   "execution_count": 3,
   "metadata": {},
   "outputs": [
    {
     "data": {
      "text/plain": [
       "(-15.0, 15.0, -15.0, 15.0)"
      ]
     },
     "execution_count": 3,
     "metadata": {},
     "output_type": "execute_result"
    },
    {
     "data": {
      "image/png": "[encoded data removed]",
      "text/plain": [
       "<Figure size 432x288 with 2 Axes>"
      ]
     },
     "metadata": {
      "needs_background": "light"
     },
     "output_type": "display_data"
    }
   ],
   "source": [
    "plt.pcolormesh(lon,lat,h)\n",
    "plt.colorbar()\n",
    "plt.axis('equal')"
   ]
  },
  {
   "cell_type": "code",
   "execution_count": 4,
   "metadata": {},
   "outputs": [
    {
     "name": "stdout",
     "output_type": "stream",
     "text": [
      "p0 8 0 0\n",
      "p1 8 5 0\n",
      "p2 8 -5 0\n",
      "p3 8 10 0\n",
      "p4 8 -10 0\n",
      "p5 0 0 0\n",
      "p6 0 5 0\n",
      "p7 0 -5 0\n",
      "p8 0 10 0\n",
      "p9 0 -10 0\n",
      "p10 -8 0 0\n",
      "p11 -8 5 0\n",
      "p12 -8 -5 0\n",
      "p13 -8 10 0\n",
      "p14 -8 -10 0\n",
      "{'p0': {'location': [8, 0]},\n",
      " 'p1': {'location': [8, 5]},\n",
      " 'p10': {'location': [-8, 0]},\n",
      " 'p11': {'location': [-8, 5]},\n",
      " 'p12': {'location': [-8, -5]},\n",
      " 'p13': {'location': [-8, 10]},\n",
      " 'p14': {'location': [-8, -10]},\n",
      " 'p2': {'location': [8, -5]},\n",
      " 'p3': {'location': [8, 10]},\n",
      " 'p4': {'location': [8, -10]},\n",
      " 'p5': {'location': [0, 0]},\n",
      " 'p6': {'location': [0, 5]},\n",
      " 'p7': {'location': [0, -5]},\n",
      " 'p8': {'location': [0, 10]},\n",
      " 'p9': {'location': [0, -10]}}\n"
     ]
    }
   ],
   "source": [
    "import pprint\n",
    "\n",
    "pois = np.array([[8,0],[8,5],[8,-5],[8,10],[8,-10], \n",
    "                 [0,0],[0,5],[0,-5],[0,10],[0,-10], \n",
    "                 [-8,0],[-8,5],[-8,-5],[-8,10],[-8,-10]])\n",
    "pois_dict = {}\n",
    "for i,p in enumerate(pois):\n",
    "    name='p'+str(i)\n",
    "    pois_dict[name]={'location': list(p)}\n",
    "    print(name, p[0], p[1], 0)\n",
    "\n",
    "pprint.pprint(pois_dict)"
   ]
  },
  {
   "cell_type": "code",
   "execution_count": 5,
   "metadata": {},
   "outputs": [],
   "source": [
    "eta  = 0.1*np.exp(-(lon**2+lat**2)/6)"
   ]
  },
  {
   "cell_type": "code",
   "execution_count": 6,
   "metadata": {},
   "outputs": [
    {
     "data": {
      "text/plain": [
       "(-15.0, 15.0, -15.0, 15.0)"
      ]
     },
     "execution_count": 6,
     "metadata": {},
     "output_type": "execute_result"
    },
    {
     "data": {
      "image/png": "[encoded data removed]",
      "text/plain": [
       "<Figure size 432x288 with 2 Axes>"
      ]
     },
     "metadata": {
      "needs_background": "light"
     },
     "output_type": "display_data"
    }
   ],
   "source": [
    "plt.pcolormesh(lon, lat, eta)\n",
    "plt.colorbar()\n",
    "plt.scatter(pois[:,0],pois[:,1])\n",
    "\n",
    "plt.axis('equal')"
   ]
  },
  {
   "cell_type": "code",
   "execution_count": 7,
   "metadata": {},
   "outputs": [],
   "source": [
    "np.savetxt('bathymetry',h)\n",
    "np.savetxt('initialSurface',eta)"
   ]
  },
  {
   "cell_type": "code",
   "execution_count": 8,
   "metadata": {},
   "outputs": [],
   "source": [
    "def writeGRD(z,name, xll, xur, yll, yur):\n",
    "    ncols = z.shape[1]\n",
    "    nrows = z.shape[0]\n",
    "    f = open(name,'w')\n",
    "    f.write('DSAA\\n')\n",
    "    f.write('%i %i\\n'%(ncols, nrows))\n",
    "    f.write('%.3f %.3f\\n'%(xll,xur))\n",
    "    f.write('%.3f %.3f\\n'%(yll,yur))\n",
    "\n",
    "\n",
    "    f.write('%.3f %.3f\\n'%(z.min(),z.max()))\n",
    "\n",
    "    s = [' '.join(['%.5f '%num for num in z[-i,:]]) for i in range(z.shape[0])]\n",
    "\n",
    "    for ss in s:\n",
    "        f.write('%s\\n'%ss)\n",
    "    f.close()\n",
    "\n",
    "# writeGRD(np.flipud(z),'bathymetry{}mins.grd'.format(k))"
   ]
  },
  {
   "cell_type": "code",
   "execution_count": 9,
   "metadata": {},
   "outputs": [],
   "source": [
    "writeGRD(-np.flipud(h), 'easywave/bathymetryEasywave.grd', \n",
    "         lon.min(), lon.max(), lat.min(), lat.max() )"
   ]
  },
  {
   "cell_type": "code",
   "execution_count": 10,
   "metadata": {},
   "outputs": [],
   "source": [
    "writeGRD(np.flipud(eta), 'easywave/initSurfaceEasywave.grd', \n",
    "         lon.min(), lon.max(), lat.min(), lat.max() )"
   ]
  }
 ],
 "metadata": {
  "kernelspec": {
   "display_name": "Python 3",
   "language": "python",
   "name": "python3"
  },
  "language_info": {
   "codemirror_mode": {
    "name": "ipython",
    "version": 3
   },
   "file_extension": ".py",
   "mimetype": "text/x-python",
   "name": "python",
   "nbconvert_exporter": "python",
   "pygments_lexer": "ipython3",
   "version": "3.6.7"
  }
 },
 "nbformat": 4,
 "nbformat_minor": 2
}
