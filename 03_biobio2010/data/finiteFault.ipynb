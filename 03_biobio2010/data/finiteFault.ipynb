{
 "cells": [
  {
   "cell_type": "code",
   "execution_count": 1,
   "metadata": {},
   "outputs": [],
   "source": [
    "import numpy as np\n",
    "import matplotlib.pyplot as plt\n",
    "%matplotlib inline"
   ]
  },
  {
   "cell_type": "code",
   "execution_count": 2,
   "metadata": {},
   "outputs": [],
   "source": [
    "f = open('finitefault.txt')\n",
    "lines = f.readlines()\n",
    "lines[106] = lines[106].replace('Hypo','')\n",
    "data = [[ float(s) for s in line.split()] for line in lines[27:]]"
   ]
  },
  {
   "cell_type": "code",
   "execution_count": 3,
   "metadata": {},
   "outputs": [
    {
     "data": {
      "text/html": [
       "<div>\n",
       "<style scoped>\n",
       "    .dataframe tbody tr th:only-of-type {\n",
       "        vertical-align: middle;\n",
       "    }\n",
       "\n",
       "    .dataframe tbody tr th {\n",
       "        vertical-align: top;\n",
       "    }\n",
       "\n",
       "    .dataframe thead th {\n",
       "        text-align: right;\n",
       "    }\n",
       "</style>\n",
       "<table border=\"1\" class=\"dataframe\">\n",
       "  <thead>\n",
       "    <tr style=\"text-align: right;\">\n",
       "      <th></th>\n",
       "      <th>lat</th>\n",
       "      <th>lon</th>\n",
       "      <th>depth</th>\n",
       "      <th>rake</th>\n",
       "      <th>slip</th>\n",
       "      <th>ontime</th>\n",
       "      <th>strike</th>\n",
       "      <th>dip</th>\n",
       "      <th>L</th>\n",
       "      <th>W</th>\n",
       "      <th>reference</th>\n",
       "    </tr>\n",
       "  </thead>\n",
       "  <tbody>\n",
       "    <tr>\n",
       "      <th>0</th>\n",
       "      <td>-39.001</td>\n",
       "      <td>287.862</td>\n",
       "      <td>81082.0</td>\n",
       "      <td>111.0</td>\n",
       "      <td>0.43</td>\n",
       "      <td>142.5</td>\n",
       "      <td>15</td>\n",
       "      <td>18</td>\n",
       "      <td>40000</td>\n",
       "      <td>40000</td>\n",
       "      <td>center</td>\n",
       "    </tr>\n",
       "    <tr>\n",
       "      <th>1</th>\n",
       "      <td>-38.652</td>\n",
       "      <td>287.977</td>\n",
       "      <td>81082.0</td>\n",
       "      <td>102.0</td>\n",
       "      <td>0.91</td>\n",
       "      <td>122.3</td>\n",
       "      <td>15</td>\n",
       "      <td>18</td>\n",
       "      <td>40000</td>\n",
       "      <td>40000</td>\n",
       "      <td>center</td>\n",
       "    </tr>\n",
       "    <tr>\n",
       "      <th>2</th>\n",
       "      <td>-38.304</td>\n",
       "      <td>288.092</td>\n",
       "      <td>81082.0</td>\n",
       "      <td>112.1</td>\n",
       "      <td>0.03</td>\n",
       "      <td>106.2</td>\n",
       "      <td>15</td>\n",
       "      <td>18</td>\n",
       "      <td>40000</td>\n",
       "      <td>40000</td>\n",
       "      <td>center</td>\n",
       "    </tr>\n",
       "    <tr>\n",
       "      <th>3</th>\n",
       "      <td>-37.956</td>\n",
       "      <td>288.206</td>\n",
       "      <td>81082.0</td>\n",
       "      <td>111.9</td>\n",
       "      <td>0.03</td>\n",
       "      <td>92.1</td>\n",
       "      <td>15</td>\n",
       "      <td>18</td>\n",
       "      <td>40000</td>\n",
       "      <td>40000</td>\n",
       "      <td>center</td>\n",
       "    </tr>\n",
       "    <tr>\n",
       "      <th>4</th>\n",
       "      <td>-37.608</td>\n",
       "      <td>288.321</td>\n",
       "      <td>81082.0</td>\n",
       "      <td>114.0</td>\n",
       "      <td>1.14</td>\n",
       "      <td>79.0</td>\n",
       "      <td>15</td>\n",
       "      <td>18</td>\n",
       "      <td>40000</td>\n",
       "      <td>40000</td>\n",
       "      <td>center</td>\n",
       "    </tr>\n",
       "  </tbody>\n",
       "</table>\n",
       "</div>"
      ],
      "text/plain": [
       "      lat      lon    depth   rake  slip  ontime  strike  dip      L      W  \\\n",
       "0 -39.001  287.862  81082.0  111.0  0.43   142.5      15   18  40000  40000   \n",
       "1 -38.652  287.977  81082.0  102.0  0.91   122.3      15   18  40000  40000   \n",
       "2 -38.304  288.092  81082.0  112.1  0.03   106.2      15   18  40000  40000   \n",
       "3 -37.956  288.206  81082.0  111.9  0.03    92.1      15   18  40000  40000   \n",
       "4 -37.608  288.321  81082.0  114.0  1.14    79.0      15   18  40000  40000   \n",
       "\n",
       "  reference  \n",
       "0    center  \n",
       "1    center  \n",
       "2    center  \n",
       "3    center  \n",
       "4    center  "
      ]
     },
     "execution_count": 3,
     "metadata": {},
     "output_type": "execute_result"
    }
   ],
   "source": [
    "import pandas as pd\n",
    "df = pd.DataFrame(data, columns = 'lat lon z rake slip ontime'.split())\n",
    "df = df.rename(columns={'z':'depth'})\n",
    "df['depth'] = 1000*df['depth']\n",
    "df['strike'] = 15\n",
    "df['dip'] = 18\n",
    "df['L'] = 40000\n",
    "df['W'] = 40000\n",
    "df['reference'] = 'center'\n",
    "df['slip'] /= 100\n",
    "df['lon'] +=360\n",
    "df.head()"
   ]
  },
  {
   "cell_type": "code",
   "execution_count": 4,
   "metadata": {},
   "outputs": [],
   "source": [
    "df = df['lat lon depth slip strike dip rake L W reference'.split()]"
   ]
  },
  {
   "cell_type": "code",
   "execution_count": 5,
   "metadata": {},
   "outputs": [],
   "source": [
    "df.to_csv('earthquake.csv',index=False)"
   ]
  },
  {
   "cell_type": "markdown",
   "metadata": {},
   "source": [
    "# Easywave format"
   ]
  },
  {
   "cell_type": "code",
   "execution_count": 6,
   "metadata": {},
   "outputs": [],
   "source": [
    "df['reference']='C'\n",
    "df['depth'] /=1000\n",
    "df['L'] /=1000\n",
    "df['W'] /=1000"
   ]
  },
  {
   "cell_type": "code",
   "execution_count": 7,
   "metadata": {
    "scrolled": false
   },
   "outputs": [],
   "source": [
    "f = open('fault.flt','w')\n",
    "\n",
    "for index, row in df.iterrows():\n",
    "    rowString = '-location {lon} {lat} {depth} -refpos {reference} -strike {strike} -dip {dip} -rake {rake} -slip {slip} -size {L} {W}\\n'\n",
    "    rowString = rowString.format(**row)\n",
    "    f.write(rowString)\n",
    "\n",
    "f.close()"
   ]
  }
 ],
 "metadata": {
  "kernelspec": {
   "display_name": "Python 3",
   "language": "python",
   "name": "python3"
  },
  "language_info": {
   "codemirror_mode": {
    "name": "ipython",
    "version": 3
   },
   "file_extension": ".py",
   "mimetype": "text/x-python",
   "name": "python",
   "nbconvert_exporter": "python",
   "pygments_lexer": "ipython3",
   "version": "3.6.5"
  }
 },
 "nbformat": 4,
 "nbformat_minor": 2
}
