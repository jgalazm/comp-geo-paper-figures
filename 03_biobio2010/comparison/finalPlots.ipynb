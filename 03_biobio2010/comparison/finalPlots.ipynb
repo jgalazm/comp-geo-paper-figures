{
 "cells": [
  {
   "cell_type": "code",
   "execution_count": null,
   "metadata": {},
   "outputs": [],
   "source": [
    "import pandas as pd\n",
    "\n",
    "import numpy as np\n",
    "import matplotlib.pyplot as plt\n",
    "%matplotlib inline\n",
    "\n",
    "import matplotlib.gridspec as gridspec\n",
    "\n",
    "from mpl_toolkits.axes_grid1 import make_axes_locatable\n",
    "import csv"
   ]
  },
  {
   "cell_type": "code",
   "execution_count": null,
   "metadata": {},
   "outputs": [],
   "source": [
    "def read_large_nami_csv(path):\n",
    "    reader = csv.reader(open(path))\n",
    "\n",
    "    for row in reader:\n",
    "        continue\n",
    "\n",
    "    return np.array(row, dtype=np.float)"
   ]
  },
  {
   "cell_type": "markdown",
   "metadata": {},
   "source": [
    "Read Nami 2D  output"
   ]
  },
  {
   "cell_type": "code",
   "execution_count": null,
   "metadata": {},
   "outputs": [],
   "source": [
    "nx = int(4717)\n",
    "ny = int(2600)"
   ]
  },
  {
   "cell_type": "code",
   "execution_count": null,
   "metadata": {},
   "outputs": [],
   "source": [
    "hmax = read_large_nami_csv('../tsunamilab/tlab2D')"
   ]
  },
  {
   "cell_type": "code",
   "execution_count": null,
   "metadata": {},
   "outputs": [],
   "source": [
    "harr = read_large_nami_csv('../tsunamilab/tlab2D (1)')"
   ]
  },
  {
   "cell_type": "code",
   "execution_count": null,
   "metadata": {},
   "outputs": [],
   "source": [
    "hmax = hmax.reshape((ny,-1))\n",
    "harr = harr.reshape((ny,-1))"
   ]
  },
  {
   "cell_type": "code",
   "execution_count": null,
   "metadata": {},
   "outputs": [],
   "source": [
    "x0 = 90\n",
    "x1 = 325.83\n",
    "y0 = -60\n",
    "y1 = 70\n",
    "x = np.linspace(x0, x1, nx)\n",
    "y = np.linspace(y0, y1, ny)\n",
    "x, y = np.meshgrid(x, y)"
   ]
  },
  {
   "cell_type": "markdown",
   "metadata": {},
   "source": [
    "Read bathymetry"
   ]
  },
  {
   "cell_type": "code",
   "execution_count": null,
   "metadata": {},
   "outputs": [],
   "source": [
    "bathymetry = np.fromfile('../data/bathymetry3min',dtype='float64')[2:]\n",
    "                                                                              \n",
    "\n",
    "bathymetry = bathymetry.reshape((3400, 4717))\n",
    "bathymetry = bathymetry[500:-300,:-1]"
   ]
  },
  {
   "cell_type": "code",
   "execution_count": null,
   "metadata": {},
   "outputs": [],
   "source": [
    "(-60+85)/(3/60)"
   ]
  },
  {
   "cell_type": "code",
   "execution_count": null,
   "metadata": {},
   "outputs": [],
   "source": [
    "(85-70)/(3/60)"
   ]
  },
  {
   "cell_type": "code",
   "execution_count": null,
   "metadata": {},
   "outputs": [],
   "source": [
    "harrmasked = np.ma.masked_where(bathymetry<500,harr)\n",
    "hmax_masked = np.ma.masked_where(bathymetry<10,hmax)"
   ]
  },
  {
   "cell_type": "markdown",
   "metadata": {},
   "source": [
    "Pois locations"
   ]
  },
  {
   "cell_type": "code",
   "execution_count": null,
   "metadata": {},
   "outputs": [],
   "source": [
    "[21418,32411,51407,55012]"
   ]
  },
  {
   "cell_type": "code",
   "execution_count": null,
   "metadata": {},
   "outputs": [],
   "source": [
    "pois={\n",
    "    21414: [178.219,48.968],\n",
    "    21419: [155.717,44.435],\n",
    "    21401: [152.583,42.617],\n",
    "    21418: [148.645,38.727],\n",
    "    21413: [152.132,30.533],\n",
    "    52403: [145.52,4.02],\n",
    "    52406: [164.977,-5.307],\n",
    "    55012: [158.453,-15.664],\n",
    "    51425: [183.68,-9.517],\n",
    "    51407: [203.455,19.57],\n",
    "    46404: [231.267,45.853],\n",
    "    46407: [231.168,42.682],\n",
    "    46411: [232.933,39.333],\n",
    "    46412: [239.437,32.492],\n",
    "    43412: [253.03300000000002,16.045],\n",
    "    43413: [259.91700000000003,11.012],\n",
    "    32411: [269.12,4.953],\n",
    "    32412: [273.626,-17.984],\n",
    "    32413: [266.483,-7.406],\n",
    "    32401: [286.579,-20.474],\n",
    "}\n",
    "darts_ids = [21413, 32412, 43412, 46404, 46407, 46411, 46412, 51425, 52403]# [21418,32411,51407,55012]\n",
    "# darts_ids = [21413, 32412, 43412, 46404, 46407, 46411, 46412, 51425, 52403, 21418,32411,51407,55012]"
   ]
  },
  {
   "cell_type": "code",
   "execution_count": null,
   "metadata": {},
   "outputs": [],
   "source": [
    "dart_locations = np.array(list(pois.values()))"
   ]
  },
  {
   "cell_type": "code",
   "execution_count": null,
   "metadata": {},
   "outputs": [],
   "source": [
    "s = 10 #skip size\n",
    "\n",
    "\n",
    "f = plt.figure(figsize=(8,6))\n",
    "ax1 = f.add_subplot(111)\n",
    "\n",
    "p = ax1.pcolormesh(x[::s,::s],y[::s,::s],hmax_masked[::s,::s],vmax=1,vmin=0, cmap=plt.cm.Reds)\n",
    "divider = make_axes_locatable(ax1)\n",
    "\n",
    "for  dart in darts_ids:\n",
    "    \n",
    "    [lon, lat] = pois[dart]\n",
    "    ax1.scatter([lon],[lat],color='white',edgecolor='green',marker='o', s=100)\n",
    "    ax1.annotate('%s'%dart, [lon+0.1,lat])\n",
    "cax = divider.append_axes(\"right\", size=\"2%\", pad=0.05)\n",
    "cbar = f.colorbar(p,cax)\n",
    "cbar.set_label('Max Height (m)')\n",
    "\n",
    "ax1.contour(x[::s,::s],y[::s,::s], bathymetry[::s,::s], [10], linewidths=1, alpha=0.5, colors='grey')\n",
    "CS = ax1.contour(x[::s,::s],y[::s,::s],harrmasked[::s,::s]/60/60,np.arange(0,24,4),colors='k')\n",
    "ax1.clabel(CS, inline=1, fontsize=10, fmt='%i h')\n",
    "ax1.contour(x[::s,::s],y[::s,::s],harrmasked[::s,::s]/60/60,\n",
    "            np.arange(0,24,1),colors='k', linewidths=0.5, alpha=0.5)\n",
    "\n",
    "ax1.set_aspect(1)\n",
    "ax1.set_xlabel('lon °')\n",
    "ax1.set_ylabel('lat °')\n",
    "f.savefig('energy2010.png',dpi=300,bbox_inches='tight')"
   ]
  },
  {
   "cell_type": "markdown",
   "metadata": {},
   "source": [
    "# Time series"
   ]
  },
  {
   "cell_type": "markdown",
   "metadata": {},
   "source": [
    "Read Nami time series"
   ]
  },
  {
   "cell_type": "code",
   "execution_count": null,
   "metadata": {},
   "outputs": [],
   "source": [
    "nami = pd.read_json('../tsunamilab/pois')"
   ]
  },
  {
   "cell_type": "markdown",
   "metadata": {},
   "source": [
    "Read Easywave time series"
   ]
  },
  {
   "cell_type": "code",
   "execution_count": null,
   "metadata": {},
   "outputs": [],
   "source": [
    "ewave = pd.read_csv('../easyWave/eWave.poi.ssh', delim_whitespace=True)"
   ]
  },
  {
   "cell_type": "markdown",
   "metadata": {},
   "source": [
    "Read DART buoys time series"
   ]
  },
  {
   "cell_type": "code",
   "execution_count": null,
   "metadata": {},
   "outputs": [],
   "source": [
    "darts = {}\n",
    "for dart in darts_ids:\n",
    "    darts[dart] = np.loadtxt('../data/tsunamiDART{}'.format(dart))"
   ]
  },
  {
   "cell_type": "code",
   "execution_count": null,
   "metadata": {},
   "outputs": [],
   "source": [
    "starts = {\n",
    "    21413: 1200,\n",
    "    32412: 150,\n",
    "    43412: 550,\n",
    "    46404: 900,\n",
    "    46407: 850,\n",
    "    46411:800,\n",
    "    46412: 750,\n",
    "    51425: 800,\n",
    "    52403: 1250\n",
    "}"
   ]
  },
  {
   "cell_type": "code",
   "execution_count": null,
   "metadata": {},
   "outputs": [],
   "source": [
    "group1 = [32412, 43412, 46412]\n",
    "group2 = [46411, 46407, 46404]\n",
    "group3 = [51425, 52403, 21413]\n",
    "orderedBuoys = [32412, 46411, 51425, 43412, 46407, 52403, 46412, 46404, 21413]"
   ]
  },
  {
   "cell_type": "code",
   "execution_count": null,
   "metadata": {},
   "outputs": [],
   "source": [
    "for i, d in enumerate(orderedBuoys):\n",
    "    print(i,d)"
   ]
  },
  {
   "cell_type": "code",
   "execution_count": null,
   "metadata": {},
   "outputs": [],
   "source": [
    "yranges = {\n",
    "    46411: [-0.05, 0.1],\n",
    "    46404: [-0.1,0.1]\n",
    "}"
   ]
  },
  {
   "cell_type": "code",
   "execution_count": null,
   "metadata": {},
   "outputs": [],
   "source": [
    "import matplotlib\n",
    "font = {'family' : 'normal',\n",
    "        'weight' : 'normal',\n",
    "        'size'   : 6}\n",
    "\n",
    "matplotlib.rc('font', **font)"
   ]
  },
  {
   "cell_type": "code",
   "execution_count": null,
   "metadata": {},
   "outputs": [],
   "source": [
    "nami"
   ]
  },
  {
   "cell_type": "code",
   "execution_count": null,
   "metadata": {},
   "outputs": [],
   "source": [
    "f = plt.figure(figsize=(12/1.5, 6/1.5))\n",
    "for i, dart_number in enumerate(orderedBuoys):\n",
    "    ax = f.add_subplot(3,3,i+1)\n",
    "    \n",
    "    ax.plot(ewave['Minute']/60., ewave[str(dart_number)],\n",
    "            label='easywave',color='#d62728', linewidth=1)\n",
    "    ax.plot(np.array(nami[dart_number].time)/60/60, nami[dart_number].surface,\n",
    "            label='nami', linewidth=1)\n",
    "    ax.plot(darts[dart_number][:,0]*24, darts[dart_number][:,1], \n",
    "            label='dart buoy', color='k',linewidth=0.5)\n",
    "\n",
    "    \n",
    "    xmin = min(starts[dart_number]/60, 20)\n",
    "    xmax = min(starts[dart_number]/60+4,25)\n",
    "    ax.set_xlim( xmin, xmax)\n",
    "    ax.annotate('%s'%dart_number, [0.7,0.9], xycoords='axes fraction')\n",
    "    ax.yaxis.set_label_coords(-0.15,0.5)\n",
    "    ax.spines['right'].set_visible(False)\n",
    "    ax.spines['top'].set_visible(False)\n",
    "    ax.spines['left'].set_linewidth(0.5)\n",
    "    \n",
    "    ax.spines['bottom'].set_linewidth(0.5)\n",
    "    xticks = np.arange(np.ceil(xmin), np.ceil(xmax+0.5), 1, dtype=np.int)\n",
    "    ax.set_xticks(xticks)\n",
    "    if dart_number in group1:\n",
    "        ax.set_ylim(-0.15,0.2)\n",
    "        ax.set_yticks(np.arange(-0.1,0.2,0.1))\n",
    "    elif dart_number in group2:\n",
    "        ax.set_ylim(-0.05,0.07)\n",
    "        ax.set_yticks(np.arange(-0.05,0.051,0.05))\n",
    "    \n",
    "        \n",
    "    ax.set_xlabel('hours')\n",
    "    ax.set_ylabel('meters')\n",
    "\n",
    "    \n",
    "f.tight_layout()\n",
    "f.subplots_adjust(wspace=0.35)\n",
    "f.savefig('timeseries2010.png',dpi=300, bbox_inches='tight')"
   ]
  },
  {
   "cell_type": "markdown",
   "metadata": {},
   "source": [
    "32412 43412 46412: súper buen ajuste con las mediciones, en tiempo de arribo y peak, aunque se comienzan a desfasar con l \n",
    "\n",
    "luego se desfasan sistemáticamente, quedando siepmre un poco adelante, pero la forma en general y orden de magnitud de las olas está bien, la estimación de máximo también\n",
    "\n"
   ]
  }
 ],
 "metadata": {
  "kernelspec": {
   "display_name": "Python 3",
   "language": "python",
   "name": "python3"
  },
  "language_info": {
   "codemirror_mode": {
    "name": "ipython",
    "version": 3
   },
   "file_extension": ".py",
   "mimetype": "text/x-python",
   "name": "python",
   "nbconvert_exporter": "python",
   "pygments_lexer": "ipython3",
   "version": "3.6.5"
  }
 },
 "nbformat": 4,
 "nbformat_minor": 2
}
