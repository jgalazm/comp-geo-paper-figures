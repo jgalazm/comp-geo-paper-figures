{
 "cells": [
  {
   "cell_type": "code",
   "execution_count": 1,
   "metadata": {},
   "outputs": [],
   "source": [
    "import numpy as np\n",
    "import matplotlib.pyplot as plt \n",
    "%matplotlib inline"
   ]
  },
  {
   "cell_type": "code",
   "execution_count": null,
   "metadata": {},
   "outputs": [],
   "source": [
    "import pandas as pd"
   ]
  },
  {
   "cell_type": "code",
   "execution_count": null,
   "metadata": {},
   "outputs": [],
   "source": [
    "df = pd.read_csv('dispCDF40_ver4.2.in.txt', delim_whitespace=True, comment='#')\n",
    "\n",
    "df = df.rename(columns={\n",
    "    'length': 'L',\n",
    "    'width': 'W',\n",
    "    'long': 'lon'\n",
    "})\n",
    "\n",
    "df['L'] = 1000*df['L']\n",
    "df['W'] = 1000*df['W']\n",
    "df['depth'] *=1000\n",
    "df['reference'] = 'center'\n",
    "df.head()"
   ]
  },
  {
   "cell_type": "code",
   "execution_count": null,
   "metadata": {},
   "outputs": [],
   "source": [
    "df = pd.read_csv('usgs.txt', delim_whitespace=True)\n",
    "df = df.rename(columns={\n",
    "    'Lat.': 'lat',\n",
    "    'Lon.': 'lon'\n",
    "})\n",
    "df['L'] = 25000\n",
    "df['W'] = 16600\n",
    "df['slip'] *= 0.01\n",
    "df['depth'] *= 1000\n",
    "df['reference'] = 'center'\n",
    "print(df['slip'].min(),df['slip'].max())\n",
    "print(df['depth'].min(),df['depth'].max())\n",
    "\n",
    "df.head()"
   ]
  },
  {
   "cell_type": "code",
   "execution_count": null,
   "metadata": {},
   "outputs": [],
   "source": [
    "df.to_csv('earthquake.csv',index=False)"
   ]
  },
  {
   "cell_type": "markdown",
   "metadata": {},
   "source": [
    "# Easywave"
   ]
  },
  {
   "cell_type": "code",
   "execution_count": null,
   "metadata": {},
   "outputs": [],
   "source": [
    "df_easywave = df.copy()\n",
    "df_easywave['reference']='C'\n",
    "df_easywave['depth'] /=1000\n",
    "df_easywave['L'] /=1000\n",
    "df_easywave['W'] /=1000"
   ]
  },
  {
   "cell_type": "code",
   "execution_count": null,
   "metadata": {},
   "outputs": [],
   "source": [
    "df_easywave.head()"
   ]
  },
  {
   "cell_type": "code",
   "execution_count": null,
   "metadata": {},
   "outputs": [],
   "source": [
    "f = open('fault.flt','w')\n",
    "\n",
    "for index, row in df_easywave.iterrows():\n",
    "    \n",
    "    rowString = '-location {lon} {lat} {depth} -refpos {reference} -strike {strike} -dip {dip} -rake {rake} -slip {slip} -size {L} {W}\\n'\n",
    "    rowString = rowString.format(**row)\n",
    "    f.write(rowString)\n",
    "\n",
    "f.close()"
   ]
  },
  {
   "cell_type": "markdown",
   "metadata": {},
   "source": [
    "# Geoclaw"
   ]
  },
  {
   "cell_type": "code",
   "execution_count": null,
   "metadata": {},
   "outputs": [],
   "source": [
    "from clawpack.geoclaw import dtopotools"
   ]
  },
  {
   "cell_type": "code",
   "execution_count": null,
   "metadata": {},
   "outputs": [],
   "source": [
    "df_geoclaw = df.copy()"
   ]
  },
  {
   "cell_type": "code",
   "execution_count": null,
   "metadata": {},
   "outputs": [],
   "source": [
    "fault = dtopotools.Fault()\n",
    "fault.subfaults = []\n",
    "for index, fault_row in df_geoclaw.iterrows():\n",
    "    subfault = dtopotools.SubFault()\n",
    "    subfault.strike = fault_row[\"strike\"]\n",
    "    subfault.length = fault_row[\"L\"]\n",
    "    subfault.width = fault_row[\"W\"]\n",
    "    subfault.depth = fault_row[\"depth\"]\n",
    "    subfault.slip = fault_row[\"slip\"]\n",
    "    subfault.rake = fault_row[\"rake\"]\n",
    "    subfault.dip = fault_row[\"dip\"]\n",
    "    subfault.longitude = fault_row[\"lon\"]\n",
    "    subfault.latitude = fault_row[\"lat\"]\n",
    "    subfault.coordinate_specification = \"centroid\"\n",
    "    fault.subfaults.append(subfault)"
   ]
  },
  {
   "cell_type": "code",
   "execution_count": null,
   "metadata": {},
   "outputs": [],
   "source": [
    "df_geoclaw.head()"
   ]
  },
  {
   "cell_type": "code",
   "execution_count": null,
   "metadata": {},
   "outputs": [],
   "source": [
    "slack = 3\n",
    "lat_min = df[\"lat\"].min() - slack\n",
    "lat_max = df[\"lat\"].max() + slack\n",
    "lon_min = df[\"lon\"].min() - slack\n",
    "lon_max = df[\"lon\"].max() + slack\n",
    "print(lat_min, lat_max, lon_min, lon_max)"
   ]
  },
  {
   "cell_type": "code",
   "execution_count": null,
   "metadata": {},
   "outputs": [],
   "source": [
    "x = np.linspace(lon_min, lon_max, 100)\n",
    "y = np.linspace(lat_min, lat_max, 100)\n",
    "times = [1.]"
   ]
  },
  {
   "cell_type": "code",
   "execution_count": null,
   "metadata": {},
   "outputs": [],
   "source": [
    "fault.create_dtopography(x,y,times)\n",
    "dtopo = fault.dtopo\n",
    "dtopo_fname = \"earthquake.tt3\"\n",
    "dtopo.write(dtopo_fname, dtopo_type=3)"
   ]
  },
  {
   "cell_type": "code",
   "execution_count": null,
   "metadata": {},
   "outputs": [],
   "source": [
    "dtopo_read = dtopotools.DTopography()\n",
    "dtopo.read(dtopo_fname, dtopo_type=3)"
   ]
  },
  {
   "cell_type": "code",
   "execution_count": null,
   "metadata": {},
   "outputs": [],
   "source": [
    "x = dtopo.x\n",
    "y = dtopo.y"
   ]
  },
  {
   "cell_type": "code",
   "execution_count": null,
   "metadata": {},
   "outputs": [],
   "source": [
    "plt.figure(figsize=(12,7))\n",
    "ax1 = plt.subplot(121)\n",
    "ax2 = plt.subplot(122)\n",
    "fault.plot_subfaults(axes=ax1,slip_color=True)\n",
    "ax1.set_xlim(x.min(),x.max())\n",
    "ax1.set_ylim(y.min(),y.max())\n",
    "dtopo.plot_dZ_colors(t=1.,axes=ax2)"
   ]
  }
 ],
 "metadata": {
  "kernelspec": {
   "display_name": "Python 3",
   "language": "python",
   "name": "python3"
  },
  "language_info": {
   "codemirror_mode": {
    "name": "ipython",
    "version": 3
   },
   "file_extension": ".py",
   "mimetype": "text/x-python",
   "name": "python",
   "nbconvert_exporter": "python",
   "pygments_lexer": "ipython3",
   "version": "3.7.3"
  }
 },
 "nbformat": 4,
 "nbformat_minor": 4
}
