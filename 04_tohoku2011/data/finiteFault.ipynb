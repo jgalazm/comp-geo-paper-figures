{
 "cells": [
  {
   "cell_type": "code",
   "execution_count": 1,
   "metadata": {},
   "outputs": [],
   "source": [
    "import numpy as np\n",
    "import matplotlib.pyplot as plt \n",
    "%matplotlib inline"
   ]
  },
  {
   "cell_type": "code",
   "execution_count": 2,
   "metadata": {},
   "outputs": [],
   "source": [
    "import pandas as pd"
   ]
  },
  {
   "cell_type": "code",
   "execution_count": 3,
   "metadata": {},
   "outputs": [
    {
     "data": {
      "text/html": [
       "<div>\n",
       "<style scoped>\n",
       "    .dataframe tbody tr th:only-of-type {\n",
       "        vertical-align: middle;\n",
       "    }\n",
       "\n",
       "    .dataframe tbody tr th {\n",
       "        vertical-align: top;\n",
       "    }\n",
       "\n",
       "    .dataframe thead th {\n",
       "        text-align: right;\n",
       "    }\n",
       "</style>\n",
       "<table border=\"1\" class=\"dataframe\">\n",
       "  <thead>\n",
       "    <tr style=\"text-align: right;\">\n",
       "      <th></th>\n",
       "      <th>L</th>\n",
       "      <th>W</th>\n",
       "      <th>depth</th>\n",
       "      <th>strike</th>\n",
       "      <th>dip</th>\n",
       "      <th>rake</th>\n",
       "      <th>slip</th>\n",
       "      <th>lat</th>\n",
       "      <th>lon</th>\n",
       "      <th>reference</th>\n",
       "    </tr>\n",
       "  </thead>\n",
       "  <tbody>\n",
       "    <tr>\n",
       "      <th>0</th>\n",
       "      <td>50000.0</td>\n",
       "      <td>50000.0</td>\n",
       "      <td>0.0</td>\n",
       "      <td>193.0</td>\n",
       "      <td>14.0</td>\n",
       "      <td>81.0</td>\n",
       "      <td>0.00</td>\n",
       "      <td>39.738</td>\n",
       "      <td>144.331</td>\n",
       "      <td>center</td>\n",
       "    </tr>\n",
       "    <tr>\n",
       "      <th>1</th>\n",
       "      <td>50000.0</td>\n",
       "      <td>50000.0</td>\n",
       "      <td>0.0</td>\n",
       "      <td>193.0</td>\n",
       "      <td>14.0</td>\n",
       "      <td>81.0</td>\n",
       "      <td>0.00</td>\n",
       "      <td>39.300</td>\n",
       "      <td>144.200</td>\n",
       "      <td>center</td>\n",
       "    </tr>\n",
       "    <tr>\n",
       "      <th>2</th>\n",
       "      <td>50000.0</td>\n",
       "      <td>50000.0</td>\n",
       "      <td>0.0</td>\n",
       "      <td>193.0</td>\n",
       "      <td>14.0</td>\n",
       "      <td>81.0</td>\n",
       "      <td>5.66</td>\n",
       "      <td>38.862</td>\n",
       "      <td>144.069</td>\n",
       "      <td>center</td>\n",
       "    </tr>\n",
       "    <tr>\n",
       "      <th>3</th>\n",
       "      <td>50000.0</td>\n",
       "      <td>50000.0</td>\n",
       "      <td>0.0</td>\n",
       "      <td>193.0</td>\n",
       "      <td>14.0</td>\n",
       "      <td>81.0</td>\n",
       "      <td>41.15</td>\n",
       "      <td>38.424</td>\n",
       "      <td>143.939</td>\n",
       "      <td>center</td>\n",
       "    </tr>\n",
       "    <tr>\n",
       "      <th>4</th>\n",
       "      <td>50000.0</td>\n",
       "      <td>50000.0</td>\n",
       "      <td>0.0</td>\n",
       "      <td>193.0</td>\n",
       "      <td>14.0</td>\n",
       "      <td>81.0</td>\n",
       "      <td>47.93</td>\n",
       "      <td>37.986</td>\n",
       "      <td>143.810</td>\n",
       "      <td>center</td>\n",
       "    </tr>\n",
       "  </tbody>\n",
       "</table>\n",
       "</div>"
      ],
      "text/plain": [
       "         L        W  depth  strike   dip  rake   slip     lat      lon  \\\n",
       "0  50000.0  50000.0    0.0   193.0  14.0  81.0   0.00  39.738  144.331   \n",
       "1  50000.0  50000.0    0.0   193.0  14.0  81.0   0.00  39.300  144.200   \n",
       "2  50000.0  50000.0    0.0   193.0  14.0  81.0   5.66  38.862  144.069   \n",
       "3  50000.0  50000.0    0.0   193.0  14.0  81.0  41.15  38.424  143.939   \n",
       "4  50000.0  50000.0    0.0   193.0  14.0  81.0  47.93  37.986  143.810   \n",
       "\n",
       "  reference  \n",
       "0    center  \n",
       "1    center  \n",
       "2    center  \n",
       "3    center  \n",
       "4    center  "
      ]
     },
     "execution_count": 3,
     "metadata": {},
     "output_type": "execute_result"
    }
   ],
   "source": [
    "df = pd.read_csv('dispCDF40_ver4.2.in.txt', delim_whitespace=True, comment='#')\n",
    "\n",
    "df = df.rename(columns={\n",
    "    'length': 'L',\n",
    "    'width': 'W',\n",
    "    'long': 'lon'\n",
    "})\n",
    "\n",
    "df['L'] = 1000*df['L']\n",
    "df['W'] = 1000*df['W']\n",
    "df['depth'] *=1000\n",
    "df['reference'] = 'center'\n",
    "df.head()"
   ]
  },
  {
   "cell_type": "code",
   "execution_count": 4,
   "metadata": {},
   "outputs": [
    {
     "name": "stdout",
     "output_type": "stream",
     "text": [
      "0.0006168 55.026870100000004\n",
      "2932.7000000000003 50815.9\n"
     ]
    },
    {
     "data": {
      "text/html": [
       "<div>\n",
       "<style scoped>\n",
       "    .dataframe tbody tr th:only-of-type {\n",
       "        vertical-align: middle;\n",
       "    }\n",
       "\n",
       "    .dataframe tbody tr th {\n",
       "        vertical-align: top;\n",
       "    }\n",
       "\n",
       "    .dataframe thead th {\n",
       "        text-align: right;\n",
       "    }\n",
       "</style>\n",
       "<table border=\"1\" class=\"dataframe\">\n",
       "  <thead>\n",
       "    <tr style=\"text-align: right;\">\n",
       "      <th></th>\n",
       "      <th>lat</th>\n",
       "      <th>lon</th>\n",
       "      <th>depth</th>\n",
       "      <th>slip</th>\n",
       "      <th>rake</th>\n",
       "      <th>strike</th>\n",
       "      <th>dip</th>\n",
       "      <th>t_rup</th>\n",
       "      <th>t_ris</th>\n",
       "      <th>t_fal</th>\n",
       "      <th>mo</th>\n",
       "      <th>L</th>\n",
       "      <th>W</th>\n",
       "      <th>reference</th>\n",
       "    </tr>\n",
       "  </thead>\n",
       "  <tbody>\n",
       "    <tr>\n",
       "      <th>0</th>\n",
       "      <td>40.6019</td>\n",
       "      <td>143.72940</td>\n",
       "      <td>15193.4</td>\n",
       "      <td>0.573538</td>\n",
       "      <td>117.14320</td>\n",
       "      <td>198.0</td>\n",
       "      <td>15.0</td>\n",
       "      <td>148.0</td>\n",
       "      <td>6.4</td>\n",
       "      <td>4.8</td>\n",
       "      <td>9.758958e+25</td>\n",
       "      <td>25000</td>\n",
       "      <td>16600</td>\n",
       "      <td>center</td>\n",
       "    </tr>\n",
       "    <tr>\n",
       "      <th>1</th>\n",
       "      <td>40.3879</td>\n",
       "      <td>143.64079</td>\n",
       "      <td>15193.4</td>\n",
       "      <td>1.410308</td>\n",
       "      <td>87.10259</td>\n",
       "      <td>198.0</td>\n",
       "      <td>15.0</td>\n",
       "      <td>140.0</td>\n",
       "      <td>8.0</td>\n",
       "      <td>14.4</td>\n",
       "      <td>2.399689e+26</td>\n",
       "      <td>25000</td>\n",
       "      <td>16600</td>\n",
       "      <td>center</td>\n",
       "    </tr>\n",
       "    <tr>\n",
       "      <th>2</th>\n",
       "      <td>40.1740</td>\n",
       "      <td>143.55220</td>\n",
       "      <td>15193.4</td>\n",
       "      <td>0.349885</td>\n",
       "      <td>83.75771</td>\n",
       "      <td>198.0</td>\n",
       "      <td>15.0</td>\n",
       "      <td>128.0</td>\n",
       "      <td>19.2</td>\n",
       "      <td>1.6</td>\n",
       "      <td>5.953423e+25</td>\n",
       "      <td>25000</td>\n",
       "      <td>16600</td>\n",
       "      <td>center</td>\n",
       "    </tr>\n",
       "    <tr>\n",
       "      <th>3</th>\n",
       "      <td>39.9600</td>\n",
       "      <td>143.46359</td>\n",
       "      <td>15193.4</td>\n",
       "      <td>2.199107</td>\n",
       "      <td>101.95310</td>\n",
       "      <td>198.0</td>\n",
       "      <td>15.0</td>\n",
       "      <td>100.0</td>\n",
       "      <td>8.0</td>\n",
       "      <td>17.6</td>\n",
       "      <td>3.741859e+26</td>\n",
       "      <td>25000</td>\n",
       "      <td>16600</td>\n",
       "      <td>center</td>\n",
       "    </tr>\n",
       "    <tr>\n",
       "      <th>4</th>\n",
       "      <td>39.7460</td>\n",
       "      <td>143.37500</td>\n",
       "      <td>15193.4</td>\n",
       "      <td>5.213699</td>\n",
       "      <td>92.39947</td>\n",
       "      <td>198.0</td>\n",
       "      <td>15.0</td>\n",
       "      <td>76.0</td>\n",
       "      <td>9.6</td>\n",
       "      <td>1.6</td>\n",
       "      <td>8.871303e+26</td>\n",
       "      <td>25000</td>\n",
       "      <td>16600</td>\n",
       "      <td>center</td>\n",
       "    </tr>\n",
       "  </tbody>\n",
       "</table>\n",
       "</div>"
      ],
      "text/plain": [
       "       lat        lon    depth      slip       rake  strike   dip  t_rup  \\\n",
       "0  40.6019  143.72940  15193.4  0.573538  117.14320   198.0  15.0  148.0   \n",
       "1  40.3879  143.64079  15193.4  1.410308   87.10259   198.0  15.0  140.0   \n",
       "2  40.1740  143.55220  15193.4  0.349885   83.75771   198.0  15.0  128.0   \n",
       "3  39.9600  143.46359  15193.4  2.199107  101.95310   198.0  15.0  100.0   \n",
       "4  39.7460  143.37500  15193.4  5.213699   92.39947   198.0  15.0   76.0   \n",
       "\n",
       "   t_ris  t_fal            mo      L      W reference  \n",
       "0    6.4    4.8  9.758958e+25  25000  16600    center  \n",
       "1    8.0   14.4  2.399689e+26  25000  16600    center  \n",
       "2   19.2    1.6  5.953423e+25  25000  16600    center  \n",
       "3    8.0   17.6  3.741859e+26  25000  16600    center  \n",
       "4    9.6    1.6  8.871303e+26  25000  16600    center  "
      ]
     },
     "execution_count": 4,
     "metadata": {},
     "output_type": "execute_result"
    }
   ],
   "source": [
    "df = pd.read_csv('usgs.txt', delim_whitespace=True)\n",
    "df = df.rename(columns={\n",
    "    'Lat.': 'lat',\n",
    "    'Lon.': 'lon'\n",
    "})\n",
    "df['L'] = 25000\n",
    "df['W'] = 16600\n",
    "df['slip'] *= 0.01\n",
    "df['depth'] *= 1000\n",
    "df['reference'] = 'center'\n",
    "print(df['slip'].min(),df['slip'].max())\n",
    "print(df['depth'].min(),df['depth'].max())\n",
    "\n",
    "df.head()"
   ]
  },
  {
   "cell_type": "code",
   "execution_count": 5,
   "metadata": {},
   "outputs": [],
   "source": [
    "df.to_csv('earthquake.csv',index=False)"
   ]
  },
  {
   "cell_type": "markdown",
   "metadata": {},
   "source": [
    "# Easywave"
   ]
  },
  {
   "cell_type": "code",
   "execution_count": 6,
   "metadata": {},
   "outputs": [],
   "source": [
    "df_easywave = df.copy()\n",
    "df_easywave['reference']='C'\n",
    "df_easywave['depth'] /=1000\n",
    "df_easywave['L'] /=1000\n",
    "df_easywave['W'] /=1000"
   ]
  },
  {
   "cell_type": "code",
   "execution_count": 7,
   "metadata": {},
   "outputs": [],
   "source": [
    "f = open('fault.flt','w')\n",
    "\n",
    "for index, row in df.iterrows():\n",
    "    \n",
    "    rowString = '-location {lon} {lat} {depth} -refpos {reference} -strike {strike} -dip {dip} -rake {rake} -slip {slip} -size {L} {W}\\n'\n",
    "    rowString = rowString.format(**row)\n",
    "    f.write(rowString)\n",
    "\n",
    "f.close()"
   ]
  },
  {
   "cell_type": "markdown",
   "metadata": {},
   "source": [
    "# Geoclaw"
   ]
  },
  {
   "cell_type": "code",
   "execution_count": 8,
   "metadata": {},
   "outputs": [],
   "source": [
    "from clawpack.geoclaw import dtopotools"
   ]
  },
  {
   "cell_type": "code",
   "execution_count": 9,
   "metadata": {},
   "outputs": [],
   "source": [
    "df_geoclaw = df.copy()"
   ]
  },
  {
   "cell_type": "code",
   "execution_count": 10,
   "metadata": {},
   "outputs": [],
   "source": [
    "fault = dtopotools.Fault()\n",
    "fault.subfaults = []\n",
    "for index, fault_row in df_geoclaw.iterrows():\n",
    "    subfault = dtopotools.SubFault()\n",
    "    subfault.strike = fault_row[\"strike\"]\n",
    "    subfault.length = fault_row[\"L\"]\n",
    "    subfault.width = fault_row[\"W\"]\n",
    "    subfault.depth = fault_row[\"depth\"]\n",
    "    subfault.slip = fault_row[\"slip\"]\n",
    "    subfault.rake = fault_row[\"rake\"]\n",
    "    subfault.dip = fault_row[\"dip\"]\n",
    "    subfault.longitude = fault_row[\"lon\"]\n",
    "    subfault.latitude = fault_row[\"lat\"]\n",
    "    subfault.coordinate_specification = \"centroid\"\n",
    "    fault.subfaults.append(subfault)"
   ]
  },
  {
   "cell_type": "code",
   "execution_count": 24,
   "metadata": {},
   "outputs": [
    {
     "data": {
      "text/html": [
       "<div>\n",
       "<style scoped>\n",
       "    .dataframe tbody tr th:only-of-type {\n",
       "        vertical-align: middle;\n",
       "    }\n",
       "\n",
       "    .dataframe tbody tr th {\n",
       "        vertical-align: top;\n",
       "    }\n",
       "\n",
       "    .dataframe thead th {\n",
       "        text-align: right;\n",
       "    }\n",
       "</style>\n",
       "<table border=\"1\" class=\"dataframe\">\n",
       "  <thead>\n",
       "    <tr style=\"text-align: right;\">\n",
       "      <th></th>\n",
       "      <th>lat</th>\n",
       "      <th>lon</th>\n",
       "      <th>depth</th>\n",
       "      <th>slip</th>\n",
       "      <th>rake</th>\n",
       "      <th>strike</th>\n",
       "      <th>dip</th>\n",
       "      <th>t_rup</th>\n",
       "      <th>t_ris</th>\n",
       "      <th>t_fal</th>\n",
       "      <th>mo</th>\n",
       "      <th>L</th>\n",
       "      <th>W</th>\n",
       "      <th>reference</th>\n",
       "    </tr>\n",
       "  </thead>\n",
       "  <tbody>\n",
       "    <tr>\n",
       "      <th>0</th>\n",
       "      <td>40.6019</td>\n",
       "      <td>143.72940</td>\n",
       "      <td>15193.4</td>\n",
       "      <td>0.573538</td>\n",
       "      <td>117.14320</td>\n",
       "      <td>198.0</td>\n",
       "      <td>15.0</td>\n",
       "      <td>148.0</td>\n",
       "      <td>6.4</td>\n",
       "      <td>4.8</td>\n",
       "      <td>9.758958e+25</td>\n",
       "      <td>25000</td>\n",
       "      <td>16600</td>\n",
       "      <td>center</td>\n",
       "    </tr>\n",
       "    <tr>\n",
       "      <th>1</th>\n",
       "      <td>40.3879</td>\n",
       "      <td>143.64079</td>\n",
       "      <td>15193.4</td>\n",
       "      <td>1.410308</td>\n",
       "      <td>87.10259</td>\n",
       "      <td>198.0</td>\n",
       "      <td>15.0</td>\n",
       "      <td>140.0</td>\n",
       "      <td>8.0</td>\n",
       "      <td>14.4</td>\n",
       "      <td>2.399689e+26</td>\n",
       "      <td>25000</td>\n",
       "      <td>16600</td>\n",
       "      <td>center</td>\n",
       "    </tr>\n",
       "    <tr>\n",
       "      <th>2</th>\n",
       "      <td>40.1740</td>\n",
       "      <td>143.55220</td>\n",
       "      <td>15193.4</td>\n",
       "      <td>0.349885</td>\n",
       "      <td>83.75771</td>\n",
       "      <td>198.0</td>\n",
       "      <td>15.0</td>\n",
       "      <td>128.0</td>\n",
       "      <td>19.2</td>\n",
       "      <td>1.6</td>\n",
       "      <td>5.953423e+25</td>\n",
       "      <td>25000</td>\n",
       "      <td>16600</td>\n",
       "      <td>center</td>\n",
       "    </tr>\n",
       "    <tr>\n",
       "      <th>3</th>\n",
       "      <td>39.9600</td>\n",
       "      <td>143.46359</td>\n",
       "      <td>15193.4</td>\n",
       "      <td>2.199107</td>\n",
       "      <td>101.95310</td>\n",
       "      <td>198.0</td>\n",
       "      <td>15.0</td>\n",
       "      <td>100.0</td>\n",
       "      <td>8.0</td>\n",
       "      <td>17.6</td>\n",
       "      <td>3.741859e+26</td>\n",
       "      <td>25000</td>\n",
       "      <td>16600</td>\n",
       "      <td>center</td>\n",
       "    </tr>\n",
       "    <tr>\n",
       "      <th>4</th>\n",
       "      <td>39.7460</td>\n",
       "      <td>143.37500</td>\n",
       "      <td>15193.4</td>\n",
       "      <td>5.213699</td>\n",
       "      <td>92.39947</td>\n",
       "      <td>198.0</td>\n",
       "      <td>15.0</td>\n",
       "      <td>76.0</td>\n",
       "      <td>9.6</td>\n",
       "      <td>1.6</td>\n",
       "      <td>8.871303e+26</td>\n",
       "      <td>25000</td>\n",
       "      <td>16600</td>\n",
       "      <td>center</td>\n",
       "    </tr>\n",
       "  </tbody>\n",
       "</table>\n",
       "</div>"
      ],
      "text/plain": [
       "       lat        lon    depth      slip       rake  strike   dip  t_rup  \\\n",
       "0  40.6019  143.72940  15193.4  0.573538  117.14320   198.0  15.0  148.0   \n",
       "1  40.3879  143.64079  15193.4  1.410308   87.10259   198.0  15.0  140.0   \n",
       "2  40.1740  143.55220  15193.4  0.349885   83.75771   198.0  15.0  128.0   \n",
       "3  39.9600  143.46359  15193.4  2.199107  101.95310   198.0  15.0  100.0   \n",
       "4  39.7460  143.37500  15193.4  5.213699   92.39947   198.0  15.0   76.0   \n",
       "\n",
       "   t_ris  t_fal            mo      L      W reference  \n",
       "0    6.4    4.8  9.758958e+25  25000  16600    center  \n",
       "1    8.0   14.4  2.399689e+26  25000  16600    center  \n",
       "2   19.2    1.6  5.953423e+25  25000  16600    center  \n",
       "3    8.0   17.6  3.741859e+26  25000  16600    center  \n",
       "4    9.6    1.6  8.871303e+26  25000  16600    center  "
      ]
     },
     "execution_count": 24,
     "metadata": {},
     "output_type": "execute_result"
    }
   ],
   "source": [
    "df.head()"
   ]
  },
  {
   "cell_type": "code",
   "execution_count": 32,
   "metadata": {},
   "outputs": [
    {
     "name": "stdout",
     "output_type": "stream",
     "text": [
      "32.2384 43.909 137.29648999999998 147.6519\n"
     ]
    }
   ],
   "source": [
    "slack = 3\n",
    "lat_min = df[\"lat\"].min() - slack\n",
    "lat_max = df[\"lat\"].max() + slack\n",
    "lon_min = df[\"lon\"].min() - slack\n",
    "lon_max = df[\"lon\"].max() + slack\n",
    "print(lat_min, lat_max, lon_min, lon_max)"
   ]
  },
  {
   "cell_type": "code",
   "execution_count": 33,
   "metadata": {},
   "outputs": [],
   "source": [
    "x = np.linspace(lon_min, lon_max, 100)\n",
    "y = np.linspace(lat_min, lat_max, 100)\n",
    "times = [1.]"
   ]
  },
  {
   "cell_type": "code",
   "execution_count": 34,
   "metadata": {},
   "outputs": [],
   "source": [
    "fault.create_dtopography(x,y,times)\n",
    "dtopo = fault.dtopo\n",
    "dtopo_fname = \"earthquake.tt3\"\n",
    "dtopo.write(dtopo_fname, dtopo_type=3)"
   ]
  },
  {
   "cell_type": "code",
   "execution_count": 35,
   "metadata": {},
   "outputs": [],
   "source": [
    "dtopo_read = dtopotools.DTopography()\n",
    "dtopo.read(dtopo_fname, dtopo_type=3)"
   ]
  },
  {
   "cell_type": "code",
   "execution_count": 36,
   "metadata": {},
   "outputs": [],
   "source": [
    "x = dtopo.x\n",
    "y = dtopo.y"
   ]
  },
  {
   "cell_type": "code",
   "execution_count": 37,
   "metadata": {},
   "outputs": [
    {
     "data": {
      "text/plain": [
       "<matplotlib.axes._subplots.AxesSubplot at 0x7f21ea719cf8>"
      ]
     },
     "execution_count": 37,
     "metadata": {},
     "output_type": "execute_result"
    },
    {
     "data": {
      "image/png": "[encoded data removed]",
      "text/plain": [
       "<Figure size 864x504 with 4 Axes>"
      ]
     },
     "metadata": {
      "needs_background": "light"
     },
     "output_type": "display_data"
    }
   ],
   "source": [
    "plt.figure(figsize=(12,7))\n",
    "ax1 = plt.subplot(121)\n",
    "ax2 = plt.subplot(122)\n",
    "fault.plot_subfaults(axes=ax1,slip_color=True)\n",
    "ax1.set_xlim(x.min(),x.max())\n",
    "ax1.set_ylim(y.min(),y.max())\n",
    "dtopo.plot_dZ_colors(t=1.,axes=ax2)"
   ]
  }
 ],
 "metadata": {
  "kernelspec": {
   "display_name": "Python 3",
   "language": "python",
   "name": "python3"
  },
  "language_info": {
   "codemirror_mode": {
    "name": "ipython",
    "version": 3
   },
   "file_extension": ".py",
   "mimetype": "text/x-python",
   "name": "python",
   "nbconvert_exporter": "python",
   "pygments_lexer": "ipython3",
   "version": "3.7.3"
  }
 },
 "nbformat": 4,
 "nbformat_minor": 4
}
