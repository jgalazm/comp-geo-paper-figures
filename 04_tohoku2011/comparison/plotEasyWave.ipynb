{
 "cells": [
  {
   "cell_type": "markdown",
   "metadata": {},
   "source": [
    "This notebook aims at comparing easywave reference point locations"
   ]
  },
  {
   "cell_type": "code",
   "execution_count": 3,
   "metadata": {},
   "outputs": [],
   "source": [
    "import numpy as np\n",
    "import matplotlib.pyplot as plt\n",
    "%matplotlib inline"
   ]
  },
  {
   "cell_type": "code",
   "execution_count": 4,
   "metadata": {},
   "outputs": [],
   "source": [
    "def ew2py(fileName):\n",
    "    \"\"\"\n",
    "        Reads EasyWave binary output into numpy arrays. \n",
    "        Works for .ssh and .sshmax files (at least).\n",
    "        \n",
    "        Example usage:\n",
    "\n",
    "        lon, lat, h = ew2py(fileName)    \n",
    "        plt.pcolormesh(lon,lat,h)\n",
    "    \"\"\"\n",
    "    import struct\n",
    "    from numpy import zeros, linspace\n",
    "\n",
    "    f = open(fileName, 'rb')\n",
    "    dsbb = f.read(4)\n",
    "\n",
    "    nOutI = struct.unpack('h',f.read(2))[0]\n",
    "    nOutJ = struct.unpack('h',f.read(2))[0]\n",
    "    \n",
    "    lonOutMin = struct.unpack('d',f.read(8))[0]\n",
    "    lonOutMax = struct.unpack('d',f.read(8))[0]\n",
    "    latOutMin = struct.unpack('d',f.read(8))[0]\n",
    "    latOutMax = struct.unpack('d',f.read(8))[0]\n",
    "    \n",
    "    tmp = f.read(8)\n",
    "    tmp = f.read(8)\n",
    "\n",
    "    lon = linspace(lonOutMin,lonOutMax,nOutI)\n",
    "    lat = linspace(latOutMin,latOutMax,nOutJ)\n",
    "    values = zeros((nOutJ,nOutI))\n",
    "\n",
    "    for j in range(nOutJ):\n",
    "        for i in range(nOutI):\n",
    "            value = f.read(4)\n",
    "            value = struct.unpack('f',value)[0]\n",
    "            values[j,i] = value\n",
    "    return lon, lat, values"
   ]
  },
  {
   "cell_type": "code",
   "execution_count": 8,
   "metadata": {},
   "outputs": [],
   "source": [
    "z = np.loadtxt('../../03_biobio2010/data/bathymetryEasywave_3min.grd',skiprows=5)"
   ]
  },
  {
   "cell_type": "code",
   "execution_count": 9,
   "metadata": {},
   "outputs": [
    {
     "data": {
      "text/plain": [
       "(2800, 4000)"
      ]
     },
     "execution_count": 9,
     "metadata": {},
     "output_type": "execute_result"
    }
   ],
   "source": [
    "z.shape"
   ]
  },
  {
   "cell_type": "code",
   "execution_count": null,
   "metadata": {},
   "outputs": [],
   "source": [
    "for i in range(0,90000,300):\n",
    "\n",
    "#     i = 300\n",
    "    print(i)\n",
    "    fileName = '../easywave/eWave.2D.{0:05d}.ssh'.format(i) \n",
    "    lon, lat, h0 = ew2py(fileName)\n",
    "    f = plt.figure()\n",
    "    ax = f.add_subplot(111)\n",
    "    p = ax.pcolormesh(lon,lat,h0[:-1,:-1],cmap=plt.cm.seismic,vmin=-1,vmax=1)\n",
    "    ax.set_xlim(90,325.83)\n",
    "    ax.set_ylim(-60,70)\n",
    "    plt.show(f)"
   ]
  }
 ],
 "metadata": {
  "kernelspec": {
   "display_name": "Python 3",
   "language": "python",
   "name": "python3"
  },
  "language_info": {
   "codemirror_mode": {
    "name": "ipython",
    "version": 3
   },
   "file_extension": ".py",
   "mimetype": "text/x-python",
   "name": "python",
   "nbconvert_exporter": "python",
   "pygments_lexer": "ipython3",
   "version": "3.6.7"
  }
 },
 "nbformat": 4,
 "nbformat_minor": 2
}
